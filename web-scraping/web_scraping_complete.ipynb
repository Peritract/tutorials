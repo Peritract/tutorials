{
 "cells": [
  {
   "cell_type": "markdown",
   "id": "stopped-discussion",
   "metadata": {},
   "source": [
    "# Web Scraping\n",
    "\n",
    "*Oh what a tangled web we weave  \n",
    "When first we practice to deceive!*\n",
    "\n",
    "This notebook introduces some of the tools/techniques used in web scraping.\n",
    "\n",
    "## Set up\n",
    "\n",
    "### Imports"
   ]
  },
  {
   "cell_type": "code",
   "execution_count": 1,
   "id": "endangered-opportunity",
   "metadata": {},
   "outputs": [],
   "source": [
    "import pandas as pd\n",
    "import requests\n",
    "from bs4 import BeautifulSoup  # Probably needs installing\n",
    "from time import sleep"
   ]
  },
  {
   "cell_type": "markdown",
   "id": "coastal-mexican",
   "metadata": {},
   "source": [
    "### Utilities"
   ]
  },
  {
   "cell_type": "code",
   "execution_count": 2,
   "id": "educational-lesbian",
   "metadata": {},
   "outputs": [],
   "source": [
    "def extract_tor_book_details(card):\n",
    "    \"\"\"\n",
    "    Takes details of a book scraped from Tor as a BeautifulSoup object;\n",
    "    returns a dictionary of key information.\n",
    "    \"\"\"\n",
    "    return {\n",
    "        \"author\": card.find(\"p\", class_=\"result--author\").find(\"a\").get_text(),\n",
    "        \"title\": card.find(\"h2\", class_=\"result--title\").find(\"a\").get_text(),\n",
    "        \"description\": card.find(\"section\", class_=\"result--description\").get_text().strip(),\n",
    "        \"formats\": [x.get_text() for x in card.find_all(\"a\", class_=\"result--link\")]\n",
    "    }"
   ]
  },
  {
   "cell_type": "markdown",
   "id": "weird-crest",
   "metadata": {},
   "source": [
    "### URLs"
   ]
  },
  {
   "cell_type": "code",
   "execution_count": 3,
   "id": "electoral-preview",
   "metadata": {},
   "outputs": [],
   "source": [
    "SPIDER_ENEMIES_URL = \"https://en.wikipedia.org/wiki/List_of_Spider-Man_enemies\"\n",
    "DIVING_SPIDER_URL = \"https://www.nationalgeographic.com/science/article/the-diving-bell-and-the-spider\"\n",
    "TOR_URL = \"https://publishing.tor.com/books\""
   ]
  },
  {
   "cell_type": "markdown",
   "id": "excessive-basement",
   "metadata": {},
   "source": [
    "## Web scraping with Pandas"
   ]
  },
  {
   "cell_type": "code",
   "execution_count": 4,
   "id": "orange-tissue",
   "metadata": {},
   "outputs": [],
   "source": [
    "# Get all <table> elements on a specific page as dataframes\n",
    "\n",
    "tables = pd.read_html(SPIDER_ENEMIES_URL, \n",
    "                      attrs={\"class\": \"wikitable\"}, match=\"Vulture\")"
   ]
  },
  {
   "cell_type": "code",
   "execution_count": 5,
   "id": "civil-mexican",
   "metadata": {},
   "outputs": [
    {
     "data": {
      "text/plain": [
       "1"
      ]
     },
     "execution_count": 5,
     "metadata": {},
     "output_type": "execute_result"
    }
   ],
   "source": [
    "# Count your tables\n",
    "\n",
    "len(tables)"
   ]
  },
  {
   "cell_type": "code",
   "execution_count": 6,
   "id": "special-disease",
   "metadata": {},
   "outputs": [
    {
     "data": {
      "text/html": [
       "<div>\n",
       "<style scoped>\n",
       "    .dataframe tbody tr th:only-of-type {\n",
       "        vertical-align: middle;\n",
       "    }\n",
       "\n",
       "    .dataframe tbody tr th {\n",
       "        vertical-align: top;\n",
       "    }\n",
       "\n",
       "    .dataframe thead th {\n",
       "        text-align: right;\n",
       "    }\n",
       "</style>\n",
       "<table border=\"1\" class=\"dataframe\">\n",
       "  <thead>\n",
       "    <tr style=\"text-align: right;\">\n",
       "      <th></th>\n",
       "      <th>Group name</th>\n",
       "      <th>Original members</th>\n",
       "      <th>First Appearance</th>\n",
       "      <th>Description</th>\n",
       "    </tr>\n",
       "  </thead>\n",
       "  <tbody>\n",
       "    <tr>\n",
       "      <th>3</th>\n",
       "      <td>Spider-Man Revenge Squad[139]</td>\n",
       "      <td>SpotGrizzlyKangaroo IIGibbon</td>\n",
       "      <td>The Spectacular Spider-Man #246 (May 1997)</td>\n",
       "      <td>A team of lesser-known and weaker Spider-Man v...</td>\n",
       "    </tr>\n",
       "  </tbody>\n",
       "</table>\n",
       "</div>"
      ],
      "text/plain": [
       "                      Group name              Original members  \\\n",
       "3  Spider-Man Revenge Squad[139]  SpotGrizzlyKangaroo IIGibbon   \n",
       "\n",
       "                             First Appearance  \\\n",
       "3  The Spectacular Spider-Man #246 (May 1997)   \n",
       "\n",
       "                                         Description  \n",
       "3  A team of lesser-known and weaker Spider-Man v...  "
      ]
     },
     "execution_count": 6,
     "metadata": {},
     "output_type": "execute_result"
    }
   ],
   "source": [
    "# Check a dataframe\n",
    "\n",
    "tables[0].sample()"
   ]
  },
  {
   "cell_type": "markdown",
   "id": "numerical-promotion",
   "metadata": {},
   "source": [
    "## Web Scraping with Requests"
   ]
  },
  {
   "cell_type": "code",
   "execution_count": 7,
   "id": "classified-racing",
   "metadata": {},
   "outputs": [],
   "source": [
    "# Grab a whole page\n",
    "\n",
    "response = requests.get(DIVING_SPIDER_URL)"
   ]
  },
  {
   "cell_type": "code",
   "execution_count": 8,
   "id": "blind-speech",
   "metadata": {},
   "outputs": [
    {
     "data": {
      "text/plain": [
       "<Response [200]>"
      ]
     },
     "execution_count": 8,
     "metadata": {},
     "output_type": "execute_result"
    }
   ],
   "source": [
    "# Check that all is okay - 2__ is good\n",
    "\n",
    "response"
   ]
  },
  {
   "cell_type": "code",
   "execution_count": 9,
   "id": "unlikely-silence",
   "metadata": {},
   "outputs": [],
   "source": [
    "# Pull out the body of the response\n",
    "\n",
    "raw_text = response.text"
   ]
  },
  {
   "cell_type": "code",
   "execution_count": 10,
   "id": "healthy-bridal",
   "metadata": {},
   "outputs": [],
   "source": [
    "# Manually extract the information\n",
    "\n",
    "start = raw_text.find(\"In the days before scuba tanks\")\n",
    "end = raw_text.find(\"in the water”.\") + len(\"in the water”.\")\n",
    "\n",
    "content = raw_text[start : end]"
   ]
  },
  {
   "cell_type": "markdown",
   "id": "moving-norman",
   "metadata": {},
   "source": [
    "## Web Scraping with BeautifulSoup\n",
    "\n",
    "[BeautifulSoup Documentation](https://www.crummy.com/software/BeautifulSoup/bs4/doc/)"
   ]
  },
  {
   "cell_type": "code",
   "execution_count": 11,
   "id": "oriented-cosmetic",
   "metadata": {},
   "outputs": [],
   "source": [
    "# Read the raw information as HTML\n",
    "\n",
    "soup = BeautifulSoup(response.content)"
   ]
  },
  {
   "cell_type": "code",
   "execution_count": 12,
   "id": "about-performer",
   "metadata": {},
   "outputs": [],
   "source": [
    "# Search for relevant information by HTML attributes\n",
    "\n",
    "title = soup.find(class_=\"Article__Headline__Title\").get_text()\n",
    "author = soup.find(class_=\"Byline__Author\").get_text()"
   ]
  },
  {
   "cell_type": "code",
   "execution_count": 13,
   "id": "relevant-closer",
   "metadata": {},
   "outputs": [
    {
     "data": {
      "text/plain": [
       "('The diving bell and the spider', 'Ed Yong')"
      ]
     },
     "execution_count": 13,
     "metadata": {},
     "output_type": "execute_result"
    }
   ],
   "source": [
    "# Check them\n",
    "\n",
    "title, author"
   ]
  },
  {
   "cell_type": "code",
   "execution_count": 14,
   "id": "eight-pension",
   "metadata": {},
   "outputs": [],
   "source": [
    "# Find elements by tag\n",
    "\n",
    "links = soup.find_all(\"a\")"
   ]
  },
  {
   "cell_type": "code",
   "execution_count": 15,
   "id": "fossil-nerve",
   "metadata": {},
   "outputs": [],
   "source": [
    "# Iterate through results\n",
    "\n",
    "links = [x[\"href\"] for x in links if x[\"href\"].startswith(\"http\")]"
   ]
  },
  {
   "cell_type": "markdown",
   "id": "dressed-lyric",
   "metadata": {},
   "source": [
    "## Web scraping with subterfuge"
   ]
  },
  {
   "cell_type": "code",
   "execution_count": 16,
   "id": "dried-stadium",
   "metadata": {},
   "outputs": [],
   "source": [
    "# Fake being human\n",
    "\n",
    "headers = {\"User-Agent\": \"Mozilla/5.0 (Macintosh; Intel Mac OS X 10.15; rv:89.0) Gecko/20100101 Firefox/89.0\"}\n",
    "\n",
    "response = requests.get(TOR_URL, headers=headers)"
   ]
  },
  {
   "cell_type": "code",
   "execution_count": 17,
   "id": "honest-collective",
   "metadata": {},
   "outputs": [],
   "source": [
    "# Read the page as HTML\n",
    "\n",
    "soup = BeautifulSoup(response.content)"
   ]
  },
  {
   "cell_type": "code",
   "execution_count": 18,
   "id": "steady-arena",
   "metadata": {},
   "outputs": [],
   "source": [
    "# Grab the desired data\n",
    "\n",
    "cards = soup.find_all(\"article\")"
   ]
  },
  {
   "cell_type": "markdown",
   "id": "invisible-jersey",
   "metadata": {},
   "source": [
    "## Web scraping with pagination"
   ]
  },
  {
   "cell_type": "code",
   "execution_count": 19,
   "id": "absent-scholar",
   "metadata": {},
   "outputs": [],
   "source": [
    "# Holder for cards\n",
    "\n",
    "cards = []\n",
    "\n",
    "# Loop through each page\n",
    "for page in range(1, 25):\n",
    "    \n",
    "    # Get the page\n",
    "    response = requests.get(f\"{TOR_URL}/?page_number={page}\", headers=headers)\n",
    "    \n",
    "    # Read it as HTML\n",
    "    soup = BeautifulSoup(response.content)\n",
    "    \n",
    "    # Add the data to the holder\n",
    "    cards.extend(soup.find_all(\"article\", class_=\"result\"))\n",
    "    \n",
    "    # Pause, politely\n",
    "    sleep(1)"
   ]
  },
  {
   "cell_type": "code",
   "execution_count": 20,
   "id": "abroad-intention",
   "metadata": {},
   "outputs": [
    {
     "data": {
      "text/plain": [
       "240"
      ]
     },
     "execution_count": 20,
     "metadata": {},
     "output_type": "execute_result"
    }
   ],
   "source": [
    "# How much did we get?\n",
    "\n",
    "len(cards)"
   ]
  },
  {
   "cell_type": "markdown",
   "id": "tight-exhibition",
   "metadata": {},
   "source": [
    "## Data extraction"
   ]
  },
  {
   "cell_type": "code",
   "execution_count": 21,
   "id": "neural-belgium",
   "metadata": {},
   "outputs": [],
   "source": [
    "# Convert the dicts to a dataframe\n",
    "\n",
    "books = pd.get_dummies(pd.DataFrame([extract_tor_book_details(x)\n",
    "                                     for x in cards]).explode('formats'),\n",
    "                       columns=['formats'])"
   ]
  },
  {
   "cell_type": "code",
   "execution_count": 22,
   "id": "thousand-demand",
   "metadata": {},
   "outputs": [
    {
     "data": {
      "text/html": [
       "<div>\n",
       "<style scoped>\n",
       "    .dataframe tbody tr th:only-of-type {\n",
       "        vertical-align: middle;\n",
       "    }\n",
       "\n",
       "    .dataframe tbody tr th {\n",
       "        vertical-align: top;\n",
       "    }\n",
       "\n",
       "    .dataframe thead th {\n",
       "        text-align: right;\n",
       "    }\n",
       "</style>\n",
       "<table border=\"1\" class=\"dataframe\">\n",
       "  <thead>\n",
       "    <tr style=\"text-align: right;\">\n",
       "      <th></th>\n",
       "      <th>author</th>\n",
       "      <th>title</th>\n",
       "      <th>description</th>\n",
       "      <th>formats_</th>\n",
       "      <th>formats_Compact Disc</th>\n",
       "      <th>formats_Digital Audio</th>\n",
       "      <th>formats_Hardcover</th>\n",
       "      <th>formats_Trade Paperback</th>\n",
       "      <th>formats_e-Book</th>\n",
       "      <th>formats_e-Book Bundle</th>\n",
       "    </tr>\n",
       "  </thead>\n",
       "  <tbody>\n",
       "    <tr>\n",
       "      <th>0</th>\n",
       "      <td>Michael R. Underwood</td>\n",
       "      <td>The Absconded Ambassador</td>\n",
       "      <td>Last Week, She Was Working Open Mics. Now She’...</td>\n",
       "      <td>0</td>\n",
       "      <td>0</td>\n",
       "      <td>0</td>\n",
       "      <td>0</td>\n",
       "      <td>0</td>\n",
       "      <td>1</td>\n",
       "      <td>0</td>\n",
       "    </tr>\n",
       "    <tr>\n",
       "      <th>0</th>\n",
       "      <td>Michael R. Underwood</td>\n",
       "      <td>The Absconded Ambassador</td>\n",
       "      <td>Last Week, She Was Working Open Mics. Now She’...</td>\n",
       "      <td>0</td>\n",
       "      <td>0</td>\n",
       "      <td>0</td>\n",
       "      <td>0</td>\n",
       "      <td>1</td>\n",
       "      <td>0</td>\n",
       "      <td>0</td>\n",
       "    </tr>\n",
       "    <tr>\n",
       "      <th>0</th>\n",
       "      <td>Michael R. Underwood</td>\n",
       "      <td>The Absconded Ambassador</td>\n",
       "      <td>Last Week, She Was Working Open Mics. Now She’...</td>\n",
       "      <td>0</td>\n",
       "      <td>0</td>\n",
       "      <td>1</td>\n",
       "      <td>0</td>\n",
       "      <td>0</td>\n",
       "      <td>0</td>\n",
       "      <td>0</td>\n",
       "    </tr>\n",
       "    <tr>\n",
       "      <th>1</th>\n",
       "      <td>Dave Hutchinson</td>\n",
       "      <td>Acadie</td>\n",
       "      <td>The first humans still hunt their children acr...</td>\n",
       "      <td>0</td>\n",
       "      <td>0</td>\n",
       "      <td>0</td>\n",
       "      <td>0</td>\n",
       "      <td>0</td>\n",
       "      <td>1</td>\n",
       "      <td>0</td>\n",
       "    </tr>\n",
       "    <tr>\n",
       "      <th>1</th>\n",
       "      <td>Dave Hutchinson</td>\n",
       "      <td>Acadie</td>\n",
       "      <td>The first humans still hunt their children acr...</td>\n",
       "      <td>0</td>\n",
       "      <td>0</td>\n",
       "      <td>0</td>\n",
       "      <td>0</td>\n",
       "      <td>1</td>\n",
       "      <td>0</td>\n",
       "      <td>0</td>\n",
       "    </tr>\n",
       "  </tbody>\n",
       "</table>\n",
       "</div>"
      ],
      "text/plain": [
       "                 author                     title  \\\n",
       "0  Michael R. Underwood  The Absconded Ambassador   \n",
       "0  Michael R. Underwood  The Absconded Ambassador   \n",
       "0  Michael R. Underwood  The Absconded Ambassador   \n",
       "1       Dave Hutchinson                    Acadie   \n",
       "1       Dave Hutchinson                    Acadie   \n",
       "\n",
       "                                         description  formats_  \\\n",
       "0  Last Week, She Was Working Open Mics. Now She’...         0   \n",
       "0  Last Week, She Was Working Open Mics. Now She’...         0   \n",
       "0  Last Week, She Was Working Open Mics. Now She’...         0   \n",
       "1  The first humans still hunt their children acr...         0   \n",
       "1  The first humans still hunt their children acr...         0   \n",
       "\n",
       "   formats_Compact Disc  formats_Digital Audio  formats_Hardcover  \\\n",
       "0                     0                      0                  0   \n",
       "0                     0                      0                  0   \n",
       "0                     0                      1                  0   \n",
       "1                     0                      0                  0   \n",
       "1                     0                      0                  0   \n",
       "\n",
       "   formats_Trade Paperback  formats_e-Book  formats_e-Book Bundle  \n",
       "0                        0               1                      0  \n",
       "0                        1               0                      0  \n",
       "0                        0               0                      0  \n",
       "1                        0               1                      0  \n",
       "1                        1               0                      0  "
      ]
     },
     "execution_count": 22,
     "metadata": {},
     "output_type": "execute_result"
    }
   ],
   "source": [
    "# Check it\n",
    "\n",
    "books.head()"
   ]
  }
 ],
 "metadata": {
  "kernelspec": {
   "display_name": "Python 3",
   "language": "python",
   "name": "python3"
  },
  "language_info": {
   "codemirror_mode": {
    "name": "ipython",
    "version": 3
   },
   "file_extension": ".py",
   "mimetype": "text/x-python",
   "name": "python",
   "nbconvert_exporter": "python",
   "pygments_lexer": "ipython3",
   "version": "3.9.5"
  }
 },
 "nbformat": 4,
 "nbformat_minor": 5
}
