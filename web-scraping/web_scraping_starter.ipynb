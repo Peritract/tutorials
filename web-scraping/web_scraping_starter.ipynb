{
 "cells": [
  {
   "cell_type": "markdown",
   "id": "constitutional-denver",
   "metadata": {},
   "source": [
    "# Web Scraping\n",
    "\n",
    "*Oh what a tangled web we weave  \n",
    "When first we practice to deceive!*\n",
    "\n",
    "This notebook introduces some of the tools/techniques used in web scraping.\n",
    "\n",
    "## Set up\n",
    "\n",
    "### Imports"
   ]
  },
  {
   "cell_type": "code",
   "execution_count": 1,
   "id": "atlantic-cholesterol",
   "metadata": {},
   "outputs": [],
   "source": [
    "import pandas as pd\n",
    "import requests\n",
    "from bs4 import BeautifulSoup  # Probably needs installing\n",
    "from time import sleep"
   ]
  },
  {
   "cell_type": "markdown",
   "id": "wired-indicator",
   "metadata": {},
   "source": [
    "### Utilities"
   ]
  },
  {
   "cell_type": "code",
   "execution_count": 2,
   "id": "constitutional-google",
   "metadata": {},
   "outputs": [],
   "source": [
    "def extract_tor_book_details(card):\n",
    "    \"\"\"\n",
    "    Takes details of a book scraped from Tor as a BeautifulSoup object;\n",
    "    returns a dictionary of key information.\n",
    "    \"\"\"\n",
    "    return {\n",
    "        \"author\": card.find(\"p\", class_=\"result--author\").find(\"a\").get_text(),\n",
    "        \"title\": card.find(\"h2\", class_=\"result--title\").find(\"a\").get_text(),\n",
    "        \"description\": card.find(\"section\", class_=\"result--description\").get_text().strip(),\n",
    "        \"formats\": [x.get_text() for x in card.find_all(\"a\", class_=\"result--link\")]\n",
    "    }"
   ]
  },
  {
   "cell_type": "markdown",
   "id": "given-istanbul",
   "metadata": {},
   "source": [
    "### URLs"
   ]
  },
  {
   "cell_type": "code",
   "execution_count": 3,
   "id": "loving-history",
   "metadata": {},
   "outputs": [],
   "source": [
    "SPIDER_ENEMIES_URL = \"https://en.wikipedia.org/wiki/List_of_Spider-Man_enemies\"\n",
    "DIVING_SPIDER_URL = \"https://www.nationalgeographic.com/science/article/the-diving-bell-and-the-spider\"\n",
    "TOR_URL = \"https://publishing.tor.com/books\""
   ]
  },
  {
   "cell_type": "markdown",
   "id": "promising-turkey",
   "metadata": {},
   "source": [
    "## Web scraping with Pandas"
   ]
  },
  {
   "cell_type": "code",
   "execution_count": null,
   "id": "selective-canon",
   "metadata": {},
   "outputs": [],
   "source": []
  },
  {
   "cell_type": "markdown",
   "id": "noble-mirror",
   "metadata": {},
   "source": [
    "## Web Scraping with Requests"
   ]
  },
  {
   "cell_type": "code",
   "execution_count": null,
   "id": "opposite-cancer",
   "metadata": {},
   "outputs": [],
   "source": []
  },
  {
   "cell_type": "markdown",
   "id": "alone-guess",
   "metadata": {},
   "source": [
    "## Web Scraping with BeautifulSoup\n",
    "\n",
    "[BeautifulSoup Documentation](https://www.crummy.com/software/BeautifulSoup/bs4/doc/)"
   ]
  },
  {
   "cell_type": "code",
   "execution_count": null,
   "id": "painted-finance",
   "metadata": {},
   "outputs": [],
   "source": []
  },
  {
   "cell_type": "markdown",
   "id": "widespread-ceramic",
   "metadata": {},
   "source": [
    "## Web scraping with subterfuge"
   ]
  },
  {
   "cell_type": "code",
   "execution_count": null,
   "id": "sharp-bulgarian",
   "metadata": {},
   "outputs": [],
   "source": []
  },
  {
   "cell_type": "markdown",
   "id": "regulation-release",
   "metadata": {},
   "source": [
    "## Web scraping with pagination"
   ]
  },
  {
   "cell_type": "code",
   "execution_count": null,
   "id": "fallen-cardiff",
   "metadata": {},
   "outputs": [],
   "source": []
  },
  {
   "cell_type": "markdown",
   "id": "pediatric-facial",
   "metadata": {},
   "source": [
    "## Data extraction"
   ]
  },
  {
   "cell_type": "code",
   "execution_count": null,
   "id": "expired-qatar",
   "metadata": {},
   "outputs": [],
   "source": []
  }
 ],
 "metadata": {
  "kernelspec": {
   "display_name": "Python 3",
   "language": "python",
   "name": "python3"
  },
  "language_info": {
   "codemirror_mode": {
    "name": "ipython",
    "version": 3
   },
   "file_extension": ".py",
   "mimetype": "text/x-python",
   "name": "python",
   "nbconvert_exporter": "python",
   "pygments_lexer": "ipython3",
   "version": "3.9.5"
  }
 },
 "nbformat": 4,
 "nbformat_minor": 5
}
