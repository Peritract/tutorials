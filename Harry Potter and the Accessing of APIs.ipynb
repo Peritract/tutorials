{
 "cells": [
  {
   "cell_type": "markdown",
   "metadata": {},
   "source": [
    "# Harry Potter and the Accessing of APIs\n",
    "\n",
    "The purpose of this notebook is to demonstrate - through accessing the [Harry Potter API](https://www.potterapi.com/) - how to get data from APIs and some of the common steps that have to be followed.\n",
    "\n",
    "\n",
    "## What is an API?\n",
    "\n",
    "An API (**A**pplication **P**rogramming **I**nterface) is a service that provides data when asked for it. There are more specific and complex definitions, but that one is sufficient most of the time. APIs are designed to allow different machines and programs to speak to each other through code; there doesn't need to be a human in between. Most modern APIs use the [HTTP(S)](https://en.wikipedia.org/wiki/Hypertext_Transfer_Protocol) protocol to communicate.\n",
    "\n",
    "APIs are everywhere - you can get [weather APIs](https://openweathermap.org/api), which allow you to get data on the weather. There are [Canadian football APIs](http://api.cfl.ca/), which provide data on Canadian football. There are APIs that will give you [love](http://www.loveaas.com/) or [hate](https://foaas.com/) or [placeholder images of kittens](https://placekitten.com/).\n",
    "\n",
    "Many APIs charge for access, but many allow either totally free access, or have several usage tiers so that you can experiment for free, but would be charged if - like many new tech companies - you wanted to build an entire business on top of existing APIs.\n",
    "\n",
    "Everyone who uses the internet interacts with APIs every day - any time you see an interactive map, or see a list of products on a website, an API is probably being used in the background. Many modern organisations and companies are built on top of APIs provided by other organisations, and may provide APIs themselves. In short, APIs are everywhere.\n",
    "\n",
    "## Accessing an API\n",
    "\n",
    "There are two main pieces of information you need when attempting to use an API:\n",
    "\n",
    "1. Where to find the API (the **endpoint**)\n",
    "\n",
    "2. How to make the request\n",
    "\n",
    "### API endpoints\n",
    "\n",
    "In order to request data from an API, you need to know where to send the request. An address that an API provides for people to make requests is called an **endpoint**. Some APIs have just one endpoint, responding to only one type of request. More usually, an API will have several different endpoints, each one allowing you to request different information.\n",
    "\n",
    "The Harry Potter API has a base address - `https://www.potterapi.com/v1/` and then several endpoints that extend from there. If you want, for example, to get a random Hogwarts house, you can use the sorting hat endpoint - `sortinghat` to make that request. The full address for the sorting hat endpoint is `https://www.potterapi.com/v1/sortinghat`.\n",
    "\n",
    "Because APIs communicate using HTTPS, the endpoint is a valid web address - or [URL](https://www.lifewire.com/what-is-a-url-2626035) - that you can access. Visiting that address will show you a randomly-chosen Hogwarts house.\n",
    "\n",
    "[Access the Harry Potter API sorting hat endpoint.](https://www.potterapi.com/v1/sortinghat)\n",
    "\n",
    "### API calls\n",
    "\n",
    "In its simplest form, an API request is just the address of an API endpoint. Making an API call is when you access - or \"hit\" - an endpoint with a request.\n",
    "\n",
    "The link above lets you hit the `sortinghat` endpoint manually. From a human point of view, you click the link and visit another site. What's actually happening is that - when you click the link - your browser makes a request to the API endpoint, which gives back the data in [JSON format](https://www.json.org/json-en.html), which your browser then displays for you. Most of the time, we don't need to think about the requests going back and forth across the internet, but it's helpful to be aware of them when talking about APIs.\n",
    "\n",
    "Not all requests are so simple. Some API endpoints listen out for extra information in requests, and return different data depending on the **parameters** you provide. Some endpoints require **authentication**, and will only return data to requests which contain a secret API key. We'll look at both of those further on.\n",
    "\n",
    "### API documentation\n",
    "\n",
    "Although many APIs work in very similar ways, you'll always need to do a bit of research to work out exactly what the endpoints for a particular API are, or how requests should be formatted. Luckily, most APIs come with detailed documentation, including example requests and the data they would return.\n",
    "\n",
    "The [Harry Potter API's documentation](https://www.potterapi.com/) explains what each endpoint is for, and how to use it."
   ]
  },
  {
   "cell_type": "markdown",
   "metadata": {},
   "source": [
    "## Accessing an API using Python\n",
    "\n",
    "While it is possible to just visit API endpoints as a human user, it's not really what they're for. APIs are designed to be accessed using code, from within programs. We'll look now at how to use Python to access the `sortinghat` api endpoint.\n",
    "\n",
    "### Importing libraries\n",
    "\n",
    "We only need one library to access the Harry Potter API. `requests` allows us to make HTTPS requests through Python."
   ]
  },
  {
   "cell_type": "code",
   "execution_count": 1,
   "metadata": {},
   "outputs": [],
   "source": [
    "import requests  # Make calls to web API endpoints"
   ]
  },
  {
   "cell_type": "markdown",
   "metadata": {},
   "source": [
    "### Creating the URL\n",
    "\n",
    "The next step is to craft the URL - the actual address to request data from.\n",
    "\n",
    "Although we could just store the URL as one string for this request, it's both good practice, and useful for later, to first create the different bits of the URL and then connect them together. This makes it easier to edit this URL and create new ones in the future."
   ]
  },
  {
   "cell_type": "code",
   "execution_count": 2,
   "metadata": {},
   "outputs": [],
   "source": [
    "# Create the URL components\n",
    "\n",
    "base_url = \"https://www.potterapi.com/v1/\"\n",
    "\n",
    "endpoint_url = \"sortinghat\"\n",
    "\n",
    "# Join the pieces together\n",
    "\n",
    "url = base_url + endpoint_url"
   ]
  },
  {
   "cell_type": "code",
   "execution_count": 3,
   "metadata": {},
   "outputs": [
    {
     "name": "stdout",
     "output_type": "stream",
     "text": [
      "https://www.potterapi.com/v1/sortinghat\n"
     ]
    }
   ],
   "source": [
    "# View the url\n",
    "\n",
    "print(url)"
   ]
  },
  {
   "cell_type": "markdown",
   "metadata": {},
   "source": [
    "### Making the request\n",
    "\n",
    "Once the URL has been created, we simply use the `.get()` method in the `requests` library to ask the API for the data. There are other types of requests that we could use, but mostly, when dealing with APIs, you'll use GET requests: the HTTPS request that asks for information."
   ]
  },
  {
   "cell_type": "code",
   "execution_count": 4,
   "metadata": {},
   "outputs": [],
   "source": [
    "# Make a request - accio data\n",
    "\n",
    "response = requests.get(url)"
   ]
  },
  {
   "cell_type": "markdown",
   "metadata": {},
   "source": [
    "In response to our request, we get (appropriately enough) a `response` object. This not only contains our data, but also key information about the request and how it was received.\n",
    "\n",
    "All `response` objects have an HTTP **status code**. This is a 3-digit number that tells you if the request was successful and, if it wasn't successful, what went wrong. You are probably already familiar with some status codes, such as **404**: the status code for when a requested resource could not be found. There are many [different codes](https://developer.mozilla.org/en-US/docs/Web/HTTP/Status), each one with a different meaning.\n",
    "\n",
    "The status code for a successful request with no problems is **200**."
   ]
  },
  {
   "cell_type": "code",
   "execution_count": 5,
   "metadata": {},
   "outputs": [
    {
     "name": "stdout",
     "output_type": "stream",
     "text": [
      "200\n"
     ]
    }
   ],
   "source": [
    "# Check the status code of the response object\n",
    "\n",
    "print(response.status_code)"
   ]
  },
  {
   "cell_type": "markdown",
   "metadata": {},
   "source": [
    "### Getting the data\n",
    "\n",
    "Lastly, we need to actually extract the data from the `response` object. As already mentioned, the API returns data in [JSON format](https://www.json.org/json-en.html). JSON stands for **J**ava**S**cript **O**bject **N**otation, and it is one of the most popular data formats in the world. It's a relatively lightweight format, it's human-readable, and it's easy to work with using most programming languages.\n",
    "\n",
    "The `response` object has a built-in method, `.json()`, that extracts the data from JSON format and returns it as the most appropriate Python data structure. In our current case, that's just a `str`."
   ]
  },
  {
   "cell_type": "code",
   "execution_count": 6,
   "metadata": {},
   "outputs": [
    {
     "name": "stdout",
     "output_type": "stream",
     "text": [
      "Gryffindor\n"
     ]
    }
   ],
   "source": [
    "# Access the data\n",
    "\n",
    "data = response.json()\n",
    "\n",
    "# View the data\n",
    "\n",
    "print(data)"
   ]
  },
  {
   "cell_type": "markdown",
   "metadata": {},
   "source": [
    "## Authentication\n",
    "\n",
    "Many APIs require you to provide user credentials to access their data. This allows them to manage traffic, control server costs, charge for access, and understand how the API is actually being used.\n",
    "\n",
    "As a general rule, these credentials take the form of an **API key** - a long string of letters and numbers that identifies a request as coming from a particular user. When making the request, you attach your API key.\n",
    "\n",
    "### Getting an API key\n",
    "\n",
    "The Harry Potter API doesn't require authorisation to access the `sortinghat` endpoint, but it is required for any of the other endpoints. You can get a free key from the API by [creating an account](https://www.potterapi.com/login/#signup) with a valid email.\n",
    "\n",
    "Once you've created an account, you'll be given your unique key."
   ]
  },
  {
   "cell_type": "markdown",
   "metadata": {},
   "source": [
    "<div class=\"alert alert-warning\">\n",
    "    <h3>Security</h3>\n",
    "    <p>API keys should be kept private and secure - don't share your keys with anyone.</p>\n",
    "    <p>In the cell below, I've replaced my actual key with a placeholder string.</p>\n",
    "</div>"
   ]
  },
  {
   "cell_type": "code",
   "execution_count": 24,
   "metadata": {},
   "outputs": [],
   "source": [
    "# Store the API key as a variable.\n",
    "\n",
    "HP_API_KEY = \"XXXXXXXXXXXXXXXXXX\""
   ]
  },
  {
   "cell_type": "markdown",
   "metadata": {},
   "source": [
    "### Making a request with an API key\n",
    "\n",
    "We can use the API key to make requests to a different endpoint - the `spells` endpoint.\n",
    "\n",
    "The first step here is similar to our earlier API call: we construct the URL from a base component and and endpoint component. "
   ]
  },
  {
   "cell_type": "code",
   "execution_count": 8,
   "metadata": {},
   "outputs": [
    {
     "name": "stdout",
     "output_type": "stream",
     "text": [
      "https://www.potterapi.com/v1/spells\n"
     ]
    }
   ],
   "source": [
    "# Construct the required URL pieces\n",
    "# base_url already exits\n",
    "\n",
    "endpoint_url = \"spells\"\n",
    "\n",
    "# Construct the URL\n",
    "\n",
    "url = base_url + endpoint_url\n",
    "\n",
    "# View the URL\n",
    "\n",
    "print(url)"
   ]
  },
  {
   "cell_type": "markdown",
   "metadata": {},
   "source": [
    "If you attempt to visit the URL at the moment though, you'll get this response:\n",
    "\n",
    "`\"error\": \"Must pass API key for request\"`\n",
    "\n",
    "We need to add the API key onto the request in order to authenticate it. However, it's not as simple as just sticking it onto the end - the API will think it's part of the actual URL and we'll end up requesting data from an endpoint that doesn't exist. Instead, we need to add it as a **parameter**.\n",
    "\n",
    "###  Parameters\n",
    "\n",
    "Parameters - also called \"query parameters\" - are the extra pieces of pieces of information that the API is listening for. Each parameter has a name and a value, and they're attached onto the URL with a special syntax so that the API knows how to interpret them.\n",
    "\n",
    "\n",
    "Later on, we'll use several different parameters at once, but for this call, we just need one: the **key** parameter."
   ]
  },
  {
   "cell_type": "code",
   "execution_count": 25,
   "metadata": {},
   "outputs": [
    {
     "name": "stdout",
     "output_type": "stream",
     "text": [
      "https://www.potterapi.com/v1/characters?key=$2a$10$1mE/Oa81TeF4MFZVPIrnU.ekfRqS2ao1Wm39brHLKf/KXt3qcTAoK&bloodStatus=pure-blood&ministryOfMagic=True?key=XXXXXXXXXXXXXXXXXX\n"
     ]
    }
   ],
   "source": [
    "# Add the parameter onto the URL\n",
    "\n",
    "url = url + \"?key=\" + HP_API_KEY\n",
    "\n",
    "# Display the URL\n",
    "\n",
    "print(url)"
   ]
  },
  {
   "cell_type": "markdown",
   "metadata": {},
   "source": [
    "The \"?\" tells the API to stop reading the URL as an address from that point on, and start looking for parameters. Next comes the name of the parameter - `key` - followed by an equals sign and then the actual value. In this case, I've replaced the real value with a fake one, for security reasons.\n",
    "\n",
    "When the API recieves this request, it will start by identifying the address part of the URL, and directing it towards the right endpoint. Then it will extract any parameters it finds, matching the names of parameters it will accept to the names in the URL."
   ]
  },
  {
   "cell_type": "code",
   "execution_count": 10,
   "metadata": {},
   "outputs": [
    {
     "name": "stdout",
     "output_type": "stream",
     "text": [
      "200\n"
     ]
    }
   ],
   "source": [
    "# Send the request\n",
    "\n",
    "response = requests.get(url)\n",
    "\n",
    "# Check the response code\n",
    "\n",
    "print(response.status_code)"
   ]
  },
  {
   "cell_type": "markdown",
   "metadata": {},
   "source": [
    "A response of 200 means that the server has accepted the API request and that the API key is valid."
   ]
  },
  {
   "cell_type": "markdown",
   "metadata": {},
   "source": [
    "## Extracting the data"
   ]
  },
  {
   "cell_type": "markdown",
   "metadata": {},
   "source": [
    "The `spells` endpoint is a bit more complex than `sortinghat` and returns more data. In order to extract meaningful information, we'll have to go through a few more steps.\n",
    "\n",
    "The start is the same - we can access the data using `.json()`."
   ]
  },
  {
   "cell_type": "code",
   "execution_count": 11,
   "metadata": {},
   "outputs": [
    {
     "name": "stdout",
     "output_type": "stream",
     "text": [
      "<class 'list'>\n"
     ]
    }
   ],
   "source": [
    "# Access the data\n",
    "\n",
    "data = response.json()\n",
    "\n",
    "# Check the type of the data\n",
    "\n",
    "print(type(data))"
   ]
  },
  {
   "cell_type": "markdown",
   "metadata": {},
   "source": [
    "The response this time has given us a list - we'll need to loop through it to get at the spell details.\n",
    "\n",
    "Let's start by looking at just the first item in the list."
   ]
  },
  {
   "cell_type": "code",
   "execution_count": 12,
   "metadata": {},
   "outputs": [
    {
     "name": "stdout",
     "output_type": "stream",
     "text": [
      "<class 'dict'>\n"
     ]
    }
   ],
   "source": [
    "# Check the type of the first list item\n",
    "\n",
    "print(type(data[0]))"
   ]
  },
  {
   "cell_type": "code",
   "execution_count": 13,
   "metadata": {},
   "outputs": [
    {
     "name": "stdout",
     "output_type": "stream",
     "text": [
      "{'_id': '5b74ebd5fb6fc0739646754c', 'spell': 'Aberto', 'type': 'Charm', 'effect': 'opens objects'}\n"
     ]
    }
   ],
   "source": [
    "# Print out the first item\n",
    "\n",
    "print(data[0])"
   ]
  },
  {
   "cell_type": "markdown",
   "metadata": {},
   "source": [
    "Each item in the list is a dictionary of `key:value` pairs. Now that we understand the structure of the data, we can actually access the data we requested.\n",
    "\n",
    "Because `.json()` converts everything into Python objects, anything that you would normally do with Python is an option. "
   ]
  },
  {
   "cell_type": "code",
   "execution_count": 14,
   "metadata": {},
   "outputs": [
    {
     "name": "stdout",
     "output_type": "stream",
     "text": [
      "151\n"
     ]
    }
   ],
   "source": [
    "# Print the number of spells\n",
    "\n",
    "print(len(data))"
   ]
  },
  {
   "cell_type": "code",
   "execution_count": 15,
   "metadata": {},
   "outputs": [
    {
     "name": "stdout",
     "output_type": "stream",
     "text": [
      "Aberto\n",
      "Accio\n",
      "Age Line\n",
      "Aguamenti\n",
      "Alarte Ascendare\n",
      "Alohomora\n",
      "Anapneo\n",
      "Anteoculatia\n",
      "Anti-Cheating\n",
      "Aparecium\n",
      "Apparate\n",
      "Arania Exumai\n",
      "Aqua Eructo\n",
      "Arresto Momentum\n",
      "Ascendio\n",
      "Avada Kedavra\n",
      "Avifors\n",
      "Avis\n",
      "Babbling Curse \n",
      "Bombarda\n",
      "Bombarda Maxima\n",
      "Bubble Head\n",
      "Carpe Retractum\n",
      "Caterwauling\n",
      "Cave Inimicum\n",
      "Cheering\n",
      "Cistem Aperio\n",
      "Colloportus\n",
      "Colloshoo\n",
      "Colovaria\n",
      "Confringo\n",
      "Confundus\n",
      "Conjunctivitis\n",
      "Cornflake Skin\n",
      "Crucio\n",
      "Cushioning\n",
      "Defodio\n",
      "Deletrius\n",
      "Densaugeo\n",
      "Deprimo\n",
      "Depulso\n",
      "Descendo\n",
      "Diffindo\n",
      "Diminuendo\n",
      "Dissendium\n",
      "Disillusionment\n",
      "Duro\n",
      "Drought\n",
      "Ears to Kumquats\n",
      "Ear Shriveling \n",
      "Engorgio\n",
      "Ennervate\n",
      "Entrail-Expelling\n",
      "Episkey\n",
      "Epoximise\n",
      "Erecto\n",
      "Evanesco\n",
      "Everte Statum\n",
      "Expecto Patronum\n",
      "Expelliarmus\n",
      "Expulso\n",
      "Extinguishing\n",
      "Ferula\n",
      "Fianto Duri\n",
      "Fidelius\n",
      "Fiendfyre\n",
      "Finestra\n",
      "Finite\n",
      "Finite Incantatum\n",
      "Flagrante\n",
      "Flagrate\n",
      "Flame Freezing\n",
      "Flipendo\n",
      "Flying\n",
      "Fumos\n",
      "Furnunculus\n",
      "Geminio\n",
      "Glisseo\n",
      "Gripping\n",
      "Harmonia Nectere Passus\n",
      "Homenum Revelio\n",
      "Homonculous\n",
      "Homorphus\n",
      "Horcrux\n",
      "Illegibilus\n",
      "Immobulus\n",
      "Impedimenta\n",
      "Imperio\n",
      "Impervius\n",
      "Incarcerous\n",
      "Incendio\n",
      "Lacarnum Inflamarae\n",
      "Langlock\n",
      "Legilimens\n",
      "Levicorpus\n",
      "Liberacorpus\n",
      "Locomotor Mortis\n",
      "Lumos\n",
      "Lumos Maxima\n",
      "Lumos Solem\n",
      "Meteolojinx Recanto\n",
      "Mimblewimble\n",
      "Mobiliarbus\n",
      "Mobilicorpus\n",
      "Morsmorde\n",
      "Morsmorde\n",
      "Nox\n",
      "Oculus Reparo\n",
      "Obliteration\n",
      "Obliviate\n",
      "Obscuro\n",
      "Oppugno\n",
      "Orchideous\n",
      "Periculum\n",
      "Permanent Sticking\n",
      "Petrificus Totalus\n",
      "Piertotum Locomotor\n",
      "Point Me\n",
      "Portus\n",
      "Priori Incantatem\n",
      "Prior Incantato\n",
      "Protego\n",
      "Protego Totalum\n",
      "Quietus\n",
      "Reducio\n",
      "Reducto\n",
      "Relashio\n",
      "Rennervate\n",
      "Reparo\n",
      "Repello Muggletum\n",
      "Repello Inimicum\n",
      "Revelio\n",
      "Rictusempra\n",
      "Riddikulus\n",
      "Salvio Hexia\n",
      "Scourgify\n",
      "Sectumsempra\n",
      "Serpensortia\n",
      "Silencio\n",
      "Slugulus Eructo\n",
      "Sonorus\n",
      "Specialis Revelio\n",
      "Stinging Jinx\n",
      "Stupefy\n",
      "Switching Spell\n",
      "Tarantallegra\n",
      "Tergeo\n",
      "Unbreakable Vow\n",
      "Vulnera Sanentur\n",
      "Waddiwasi\n",
      "Wingardium Leviosa\n"
     ]
    }
   ],
   "source": [
    "# Loop through the list, printing out the name of each spell.\n",
    "\n",
    "for item in data:\n",
    "    print(item[\"spell\"])"
   ]
  },
  {
   "cell_type": "code",
   "execution_count": 16,
   "metadata": {},
   "outputs": [
    {
     "name": "stdout",
     "output_type": "stream",
     "text": [
      "Charm: 40\n",
      "Enchantment: 1\n",
      "Spell: 92\n",
      "Hex: 1\n",
      "Curse: 15\n",
      "Jinx: 2\n"
     ]
    }
   ],
   "source": [
    "# Count up each type of spell\n",
    "spell_counts = {}\n",
    "\n",
    "for item in data:\n",
    "    if item[\"type\"] not in spell_counts:\n",
    "        spell_counts[item[\"type\"]] = 1\n",
    "    else:\n",
    "        spell_counts[item[\"type\"]] += 1\n",
    "        \n",
    "for key in spell_counts:\n",
    "    print(key + \":\", spell_counts[key])"
   ]
  },
  {
   "cell_type": "markdown",
   "metadata": {},
   "source": [
    "## Parameters\n",
    "\n",
    "`key` is a required parameter for all the endpoints except `sortinghat`, but it's not the only one available. By consulting the [documentation](https://www.potterapi.com/), you can learn which API endpoints accept which query parameters.\n",
    "\n",
    "You can use parameters to filter the data, returning only a subset of the available data. To explore this, we'll use the `characters` endpoint, which accepts several different parameters.\n",
    "\n",
    "### Accessing characters"
   ]
  },
  {
   "cell_type": "code",
   "execution_count": 17,
   "metadata": {},
   "outputs": [],
   "source": [
    "# Construct the url\n",
    "\n",
    "endpoint_url = \"characters\"\n",
    "\n",
    "url = base_url + endpoint_url + \"?key=\" + HP_API_KEY"
   ]
  },
  {
   "cell_type": "code",
   "execution_count": 18,
   "metadata": {},
   "outputs": [
    {
     "name": "stdout",
     "output_type": "stream",
     "text": [
      "200\n"
     ]
    }
   ],
   "source": [
    "# Request all character data\n",
    "\n",
    "response = requests.get(url)\n",
    "\n",
    "# Check the response status\n",
    "\n",
    "print(response.status_code)"
   ]
  },
  {
   "cell_type": "code",
   "execution_count": 19,
   "metadata": {},
   "outputs": [
    {
     "name": "stdout",
     "output_type": "stream",
     "text": [
      "195\n"
     ]
    }
   ],
   "source": [
    "# Extract the data\n",
    "\n",
    "data = response.json()\n",
    "\n",
    "# Count the number of characters\n",
    "\n",
    "print(len(data))"
   ]
  },
  {
   "cell_type": "markdown",
   "metadata": {},
   "source": [
    "### Adding more parameters\n",
    "\n",
    "In order to add more parameters, filtering the data, we add them onto the end of the URL. `&` is used to connect the different parameters together."
   ]
  },
  {
   "cell_type": "code",
   "execution_count": 20,
   "metadata": {},
   "outputs": [],
   "source": [
    "# Add another parameter onto the url\n",
    "\n",
    "url = url + \"&deathEater=True\""
   ]
  },
  {
   "cell_type": "code",
   "execution_count": 21,
   "metadata": {},
   "outputs": [
    {
     "name": "stdout",
     "output_type": "stream",
     "text": [
      "200\n"
     ]
    }
   ],
   "source": [
    "# Request character data on characters who are Death Eaters\n",
    "\n",
    "response = requests.get(url)\n",
    "\n",
    "# Check the response status\n",
    "\n",
    "print(response.status_code)"
   ]
  },
  {
   "cell_type": "code",
   "execution_count": 22,
   "metadata": {},
   "outputs": [
    {
     "name": "stdout",
     "output_type": "stream",
     "text": [
      "24\n"
     ]
    }
   ],
   "source": [
    "# Extract the data\n",
    "\n",
    "data = response.json()\n",
    "\n",
    "# Count the Death Eaters\n",
    "\n",
    "print(len(data))"
   ]
  },
  {
   "cell_type": "markdown",
   "metadata": {},
   "source": [
    "You can combine parameters in any way you want, filtering the data to whatever degree you need. The query below, for example, requests information on all the pure-blood wizards who work at the Ministry of Magic ."
   ]
  },
  {
   "cell_type": "code",
   "execution_count": 23,
   "metadata": {},
   "outputs": [
    {
     "name": "stdout",
     "output_type": "stream",
     "text": [
      "6\n"
     ]
    }
   ],
   "source": [
    "# Craft the URL\n",
    "\n",
    "url = base_url + endpoint_url + \"?key=\" + HP_API_KEY + \"&bloodStatus=pure-blood&ministryOfMagic=True\"\n",
    "\n",
    "# Hit the endpoint\n",
    "\n",
    "response = requests.get(url)\n",
    "\n",
    "# Count the wizards\n",
    "\n",
    "print(len(response.json()))"
   ]
  },
  {
   "cell_type": "markdown",
   "metadata": {},
   "source": [
    "## Other APIs\n",
    "\n",
    "While other APIs will have their own rules and documentation, the broad principles are very similar: hit an endpoint to make a request, include parameters to be more specific. As APIs want you to use them, the documentation is normally quite clear and accessible.\n",
    "\n",
    "As already mentioned, APIs are everywhere, giving access to all sorts of data. [This GitHub repository](https://github.com/public-apis/public-apis) holds a large list of publicly-accessible APIs for you to experiment with.\n",
    "\n",
    "A [world of dreams and adventure awaits](https://pokeapi.co/) you."
   ]
  },
  {
   "cell_type": "code",
   "execution_count": null,
   "metadata": {},
   "outputs": [],
   "source": []
  }
 ],
 "metadata": {
  "kernelspec": {
   "display_name": "Python 3",
   "language": "python",
   "name": "python3"
  },
  "language_info": {
   "codemirror_mode": {
    "name": "ipython",
    "version": 3
   },
   "file_extension": ".py",
   "mimetype": "text/x-python",
   "name": "python",
   "nbconvert_exporter": "python",
   "pygments_lexer": "ipython3",
   "version": "3.7.5"
  }
 },
 "nbformat": 4,
 "nbformat_minor": 2
}
