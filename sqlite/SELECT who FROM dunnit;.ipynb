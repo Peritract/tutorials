{
 "cells": [
  {
   "cell_type": "markdown",
   "metadata": {},
   "source": [
    "# SELECT who FROM dunnit;\n",
    "\n",
    "This notebook demonstrates how to create and query a local SQLite database using the `sqlalchemy` library. The database in question is based on [Cluedo](https://en.wikipedia.org/wiki/Cluedo), partly because the game involves a relatively simple data model, but mostly because the idea amused me.\n",
    "\n",
    "The notebook will explore how to create, read, update, and delete data from the database: the four standard operations required for working with databases.\n",
    "\n",
    "This notebook assumes that you are familiar with basic Python and SQL - \n",
    "\n",
    "Everything done in this notebook using `sqlalchemy` could have been done with the `sqlite3` library instead, with minor changes; this notebook uses `sqlalchemy`, but that's not at all the only valid choice."
   ]
  },
  {
   "cell_type": "markdown",
   "metadata": {},
   "source": [
    "## The situation\n",
    "\n",
    "A man is dead.\n",
    "\n",
    "Dr. Black was murdered in his own home. There are only six possible suspects, each with their own motivations and secrets. Someone, somewhere, with some weapon, killed the good doctor; that someone must be unmasked. There's no time to waste - the murderer must be brought to justice before they manage to erase any evidence of their crime, or even (god forbid) strike again. \n",
    "\n",
    "If you were a detective, then you'd be able to solve this crime for us with a combination of science, questioning, and logic. But you aren't. We're going to have to find the truth through a (luckily) much easier skill: structured query language (SQL).\n",
    "\n",
    "In order to identify the killer, we need to design a database, collate all known data, and identify the murderer, the murder location, and the murder weapon. According to the rules of Cluedo, that information - and only that information - is required to make an accusation hold up in court."
   ]
  },
  {
   "cell_type": "markdown",
   "metadata": {},
   "source": [
    "## Imports"
   ]
  },
  {
   "cell_type": "code",
   "execution_count": 1,
   "metadata": {},
   "outputs": [],
   "source": [
    "from sqlalchemy import create_engine  # Access database\n",
    "import pandas as pd  # Dataframes and related methods\n",
    "from itertools import product  # Generate all possible combinations"
   ]
  },
  {
   "cell_type": "markdown",
   "metadata": {},
   "source": [
    "## Database construction\n",
    "\n",
    "### Creating an engine\n",
    "\n",
    "In order to access the database, we need to create an \"engine\" using `sqlalchemy`. This will manage our connections and queries when interacting with the database.\n",
    "\n",
    "`create_engine()` requires one argument - a string that contains the type and name of the databse. As we're using SQLite to record data about Cluedo, the type is \"sqlite\" and the name is \"cluedo.db\". The tricky bit here is the punctuation between the type and the name. We need one colon - \":\" - and **exactly three** forward slashes (\"/\"). With two or fewer slashes, it just won't work. With four slashes, it will look for a remote database, not a locally-hosted one.\n",
    "\n",
    "One piece of functionality in SQLite that should be noted is that - if your database file does not exist - it will be created for you the first time you try and use it. This occasionally causes problems, as a slight error in the database name will mean that you're actually working with a different, newly-created database, rather than the one you intended."
   ]
  },
  {
   "cell_type": "code",
   "execution_count": 2,
   "metadata": {},
   "outputs": [],
   "source": [
    "engine = create_engine(\"sqlite:///cluedo.db\")"
   ]
  },
  {
   "cell_type": "markdown",
   "metadata": {},
   "source": [
    "### Creating tables"
   ]
  },
  {
   "cell_type": "markdown",
   "metadata": {},
   "source": [
    "Once we've got the engine, we can start building the database tables inside it. In order to model the game of Cluedo, we'll use four tables - one each for **suspects**, **locations**, **weapons** and - linking all the other tables together - **accusations**.\n",
    "\n",
    "Each of these tables will be created through an SQL query.\n",
    "\n",
    "The engine **manages** connections, but it's not a direct connection itself: we don't use the engine directly to talk to the database. Instead, we open and close connections to the database using the engine. So far, the most helpful analogy I have found for this is that the engine is a telephone line connecting us to the database. Whenever we open a connection, we're picking up the phone. The telephone line is required to connect, but it isn't the active connection itself."
   ]
  },
  {
   "cell_type": "code",
   "execution_count": 3,
   "metadata": {},
   "outputs": [],
   "source": [
    "# Open a connection\n",
    "\n",
    "conn = engine.connect()"
   ]
  },
  {
   "cell_type": "markdown",
   "metadata": {},
   "source": [
    "With an open connection, we can create the first table. The SQL statement to do this is shown below."
   ]
  },
  {
   "cell_type": "code",
   "execution_count": 4,
   "metadata": {},
   "outputs": [],
   "source": [
    "statement = \"\"\"\n",
    "    CREATE TABLE IF NOT EXISTS suspect (\n",
    "    id INTEGER PRIMARY KEY AUTOINCREMENT,\n",
    "    honorific TEXT NOT NULL,\n",
    "    name TEXT NOT NULL);\n",
    "\"\"\""
   ]
  },
  {
   "cell_type": "markdown",
   "metadata": {},
   "source": [
    "The statement is stored as a variable - `statement` - so that we can refer to it with a shorter name later on, but actually create it inside a **multiline string**. The three speechmarks at the start and end of the string mean that we can include line breaks easily. This makes it a lot easier to write and read SQL statements without getting confused. Remember, SQL doesn't care about spaces or line breaks - you can arrange it in the way that makes more sense to you.\n",
    "\n",
    "The statement itself `CREATE`s a table called `suspect`, but **only if that table does not exist already**. This means that you can re-run this cell later with an existing databse, and not hit an ugly error.\n",
    "\n",
    "The `suspect` table contains three columns, one of which - `id` - is an **autoincrementing** primary key: each new row of data gets the next number in the sequence, uniquely identifying that row compared to all the others."
   ]
  },
  {
   "cell_type": "code",
   "execution_count": 5,
   "metadata": {},
   "outputs": [
    {
     "data": {
      "text/plain": [
       "<sqlalchemy.engine.result.ResultProxy at 0x110f35d10>"
      ]
     },
     "execution_count": 5,
     "metadata": {},
     "output_type": "execute_result"
    }
   ],
   "source": [
    "# Actually create the table\n",
    "\n",
    "conn.execute(statement)"
   ]
  },
  {
   "cell_type": "code",
   "execution_count": 6,
   "metadata": {},
   "outputs": [],
   "source": [
    "# Close the connection.\n",
    "\n",
    "conn.close()"
   ]
  },
  {
   "cell_type": "markdown",
   "metadata": {},
   "source": [
    "It's good practice to close your connection after each query (or closely-related set of queries in rapid succession), as this frees up resources and simplifies database management.\n",
    "\n",
    "### Using \"with\"\n",
    "\n",
    "Instead of explicitly opening and closing the connection each time, we can use the `with` keyword to automatically manage our connections.\n",
    "\n",
    "The first step is to craft the next statement, which will create the `weapon` table. It works almost identically to the statement for the `suspect` table."
   ]
  },
  {
   "cell_type": "code",
   "execution_count": 7,
   "metadata": {},
   "outputs": [],
   "source": [
    "statement = \"\"\"\n",
    "    CREATE TABLE IF NOT EXISTS weapon (\n",
    "    id INTEGER PRIMARY KEY AUTOINCREMENT,\n",
    "    name TEXT NOT NULL);\n",
    "\"\"\""
   ]
  },
  {
   "cell_type": "markdown",
   "metadata": {},
   "source": [
    "The `with` keyword is a **context manager** - it helps deal with resources outside our program, such as the connections to a database. When we use `with`, we specify a resource to deal with, and a name for that resource. `with` will open the resource, and keep it open and accessible until the end of the `with` block. Once we've moved on from the `with`, the connection gets automatically closed.\n",
    "\n",
    "This gives us a quick, two-line way to send statements to a database, without having to worry about connections."
   ]
  },
  {
   "cell_type": "code",
   "execution_count": 8,
   "metadata": {},
   "outputs": [],
   "source": [
    "# Using the context manager\n",
    "\n",
    "with engine.connect() as conn:\n",
    "    conn.execute(statement)"
   ]
  },
  {
   "cell_type": "markdown",
   "metadata": {},
   "source": [
    "### Running multiple queries\n",
    "\n",
    "SQLite is difficult about multiple statements; the easiest way to run multiple statements is to run each one separately in quick succession. This is we will create the last two tables in the database."
   ]
  },
  {
   "cell_type": "code",
   "execution_count": 9,
   "metadata": {},
   "outputs": [],
   "source": [
    "# Create the statements as a list\n",
    "\n",
    "statements = [\n",
    "    \"\"\"\n",
    "    CREATE TABLE IF NOT EXISTS location (\n",
    "    id INTEGER PRIMARY KEY AUTOINCREMENT,\n",
    "    name TEXT NOT NULL);\n",
    "    \"\"\",\n",
    "    \"\"\"\n",
    "    CREATE TABLE IF NOT EXISTS accusation (\n",
    "    id INTEGER PRIMARY KEY AUTOINCREMENT,\n",
    "    suspect_id INTEGER NOT NULL,\n",
    "    weapon_id INTEGER NOT NULL,\n",
    "    location_id INTEGER NOT NULL,\n",
    "    true INT,\n",
    "    FOREIGN KEY (suspect_id) REFERENCES suspect(id),\n",
    "    FOREIGN KEY (weapon_id) REFERENCES weapon(id),\n",
    "    FOREIGN KEY (location_id) REFERENCES location(id));\n",
    "    \"\"\"\n",
    "]"
   ]
  },
  {
   "cell_type": "markdown",
   "metadata": {},
   "source": [
    "The query to create the `location` table is the same as we have seen before, but the one for `accusation` is a little more complicated. `accusation` is a table with thre foreign keys: one each for the **suspect**, **weapon**, and **location**. Each of these columns is declared as normal, but the last three lines of the statement forge the actual connections between the foreign key columns and their respective tables. Each foreign key column `REFERENCES` a column in another table.\n",
    "\n",
    "There is also an integer `true` column: when justice has been served, this can be used to identify the correct accusation, with `0` representing a `True` accusation, and `1` a `False` one.\n",
    "\n",
    "Once the statements have been written, we can use the `with` keyword and a quick loop to run each query, one after the other."
   ]
  },
  {
   "cell_type": "code",
   "execution_count": 10,
   "metadata": {},
   "outputs": [],
   "source": [
    "# Using the context manager\n",
    "\n",
    "with engine.connect() as conn:\n",
    "    \n",
    "    # Loop through the statements\n",
    "    \n",
    "    for statement in statements:\n",
    "        conn.execute(statement)"
   ]
  },
  {
   "cell_type": "markdown",
   "metadata": {},
   "source": [
    "### Checking the table creation\n",
    "\n",
    "Now that we've run all the statements, we should be able to see that the tables have been created. The `.table_names()` method of `engine` will list the existing tables."
   ]
  },
  {
   "cell_type": "code",
   "execution_count": 11,
   "metadata": {},
   "outputs": [
    {
     "data": {
      "text/plain": [
       "['accusation', 'location', 'sqlite_sequence', 'suspect', 'weapon']"
      ]
     },
     "execution_count": 11,
     "metadata": {},
     "output_type": "execute_result"
    }
   ],
   "source": [
    "# Show the tables\n",
    "\n",
    "engine.table_names()"
   ]
  },
  {
   "cell_type": "markdown",
   "metadata": {},
   "source": [
    "The `sqlite_sequence` table is automatically created because we've used several `AUTOINCREMENT` columns in the database so far. The table keeps track of the largest integer assigned to a row in each table, so that new data can be given the next numbers available, and there is no possibility of collision."
   ]
  },
  {
   "cell_type": "markdown",
   "metadata": {},
   "source": [
    "## Inserting data"
   ]
  },
  {
   "cell_type": "markdown",
   "metadata": {},
   "source": [
    "Now that we have tables, we can start adding data to them. Bear in mind that running these next cells multiple times will add multiple rows of data with identical information (except for primary key values). Re-running this notebook with an existing database will double the amount of data in it. If you end up with duplicate data you don't want, the quickest way to deal with it is to delete the `.db` file and then re-run this notebook: the correct tables and data will be recreated.\n",
    "\n",
    "The simplest way to add data is with a single `INSERT` statement. We'll begin with Dr. Black, former owner of Tudor Close and current corpse.\n",
    "\n",
    "### Inserting a single row"
   ]
  },
  {
   "cell_type": "code",
   "execution_count": 12,
   "metadata": {},
   "outputs": [],
   "source": [
    "# Craft the statement\n",
    "\n",
    "statement = \"\"\"\n",
    "    INSERT INTO suspect\n",
    "    (honorific, name)\n",
    "    VALUES\n",
    "    ('Dr.', 'Black');\n",
    "\"\"\""
   ]
  },
  {
   "cell_type": "markdown",
   "metadata": {},
   "source": [
    "There's no need to provide an `id` value, because the `AUTOINCREMENT` sorts that out for us, giving each row a unique identifier."
   ]
  },
  {
   "cell_type": "code",
   "execution_count": 13,
   "metadata": {},
   "outputs": [],
   "source": [
    "# Run the statement on the database\n",
    "\n",
    "with engine.connect() as conn:\n",
    "    conn.execute(statement)"
   ]
  },
  {
   "cell_type": "markdown",
   "metadata": {},
   "source": [
    "### Inserting multiple rows\n",
    "\n",
    "Of course, inserting data one line at a time is tedious, so we can instead insert multiple rows at once. Details for each row are contained in brackets, separated from each other by comments.\n",
    "\n",
    "For the purposes of this notebook, we're only including characters from the original version of Cluedo, though you are - of course - free to add the rest of the characters if you feel strongly about it."
   ]
  },
  {
   "cell_type": "code",
   "execution_count": 14,
   "metadata": {},
   "outputs": [],
   "source": [
    "# Craft the statement\n",
    "\n",
    "statement = \"\"\"\n",
    "    INSERT INTO suspect\n",
    "    (honorific, name)\n",
    "    VALUES\n",
    "    ('Miss', 'Scarlett'),\n",
    "    ('Colonel', 'Mustard'),\n",
    "    ('Mrs.', 'White'),\n",
    "    ('Reverend', 'Green'),\n",
    "    ('Mrs', 'peacock'),\n",
    "    ('Professor', 'Plum'),\n",
    "    ('Dr.', 'Black');\n",
    "\"\"\""
   ]
  },
  {
   "cell_type": "code",
   "execution_count": 15,
   "metadata": {},
   "outputs": [],
   "source": [
    "# Run the statement on the database - you may have noticed by now how reusable this snippet is\n",
    "\n",
    "with engine.connect() as conn:\n",
    "    conn.execute(statement)"
   ]
  },
  {
   "cell_type": "markdown",
   "metadata": {},
   "source": [
    "## Inserting data from files\n",
    "\n",
    "You might even want to load data from an existing file, to save you having to manually create a statement for hundreds, if not thousands, of lines. This is not actually a concern for this notebook, as the `location` table - which has the most rows - will still only contain details on nine separate places. However, to illustrate the principle, we'll load in the `weapon` and `location` data from files.\n",
    "\n",
    "### Inserting file data using raw Python\n",
    "\n",
    "You are unlikely to have to load data from a file and prepare SQL queries using just Python very often, but it's a very useful thing to be familiar with, even if you never use it. Thinking about data and SQL in these terms - as just text in a particular format - helps demystify various ideas around data, and make it easier to see what more advanced methods are actually doing.\n",
    "\n",
    "The data on weapons is stored in a `.txt` file - `weapons.txt`. Using the `with` keyword, we can open and read data from this resource. We can read each line of the file and store the weapon information in a `list`."
   ]
  },
  {
   "cell_type": "code",
   "execution_count": 16,
   "metadata": {},
   "outputs": [
    {
     "name": "stdout",
     "output_type": "stream",
     "text": [
      "['Candlestick', 'Dagger', 'Lead Pipe', 'Revolver', 'Rope', 'Wrench']\n"
     ]
    }
   ],
   "source": [
    "# Create a holder list for the data\n",
    "\n",
    "weapons = []\n",
    "\n",
    "# Open the file with a context manager in \"read\" mode\n",
    "\n",
    "with open(\"weapons.txt\", \"r\") as file:\n",
    "    \n",
    "    # Loop through the file, line-by-line\n",
    "    \n",
    "    for line in file.readlines():\n",
    "        \n",
    "        # Add each line (stripped of extra spaces) to the holder\n",
    "        \n",
    "        weapons.append(line.strip())\n",
    "        \n",
    "# Display the weapon data\n",
    "\n",
    "print(weapons)"
   ]
  },
  {
   "cell_type": "markdown",
   "metadata": {},
   "source": [
    "Once we've got the data into the program, we can craft an SQL statement using it. We build the basic stub of the statement, and then loop through each value in `weapons`, adding the weapon data (and appropriate punctuation) onto the end of the statement.\n",
    "\n",
    "The appropriate punctuation is brackets and single quote marks around each value, a comma, and a newline character, just to make the formatting neater. In order to create that neatly, we're using [f-strings](https://realpython.com/python-f-strings/), a feature that lets us add data into strings by including it in curly brackets = \"{}\" - and putting an \"f\" character before the starting speechmark."
   ]
  },
  {
   "cell_type": "code",
   "execution_count": 17,
   "metadata": {},
   "outputs": [
    {
     "name": "stdout",
     "output_type": "stream",
     "text": [
      "\n",
      "INSERT INTO weapon\n",
      "(name)\n",
      "VALUES\n",
      "('Candlestick'),\n",
      "('Dagger'),\n",
      "('Lead Pipe'),\n",
      "('Revolver'),\n",
      "('Rope'),\n",
      "('Wrench');\n"
     ]
    }
   ],
   "source": [
    "# Craft the statement\n",
    "\n",
    "statement = \"\"\"\n",
    "INSERT INTO weapon\n",
    "(name)\n",
    "VALUES\n",
    "\"\"\"\n",
    "\n",
    "# Loop through the weapons\n",
    "\n",
    "for weapon in weapons:\n",
    "    \n",
    "    # Add onto the statement\n",
    "    \n",
    "    statement = statement + f\"('{weapon}'),\\n\"\n",
    "    \n",
    "# Remove the final character from the statement (trailing comma) and replace it with a semicolon\n",
    "\n",
    "statement = statement[:-2] + \";\"\n",
    "    \n",
    "# Display the statement\n",
    "\n",
    "print(statement)"
   ]
  },
  {
   "cell_type": "code",
   "execution_count": 18,
   "metadata": {},
   "outputs": [],
   "source": [
    "# Run the statement\n",
    "\n",
    "with engine.connect() as conn:\n",
    "    conn.execute(statement)"
   ]
  },
  {
   "cell_type": "markdown",
   "metadata": {},
   "source": [
    "### Inserting file data using Pandas\n",
    "\n",
    "As already mentioned, you won't (or will very rarely) need to craft your own queries using loops, operating on raw text data. We can rely on libraries like `Pandas` to create valid SQL for us automatically.\n",
    "\n",
    "The data for the `location` table is stored in a `.csv` file: `locations.csv`. Using `Pandas`, we can load the data into a dataframe."
   ]
  },
  {
   "cell_type": "code",
   "execution_count": 19,
   "metadata": {},
   "outputs": [],
   "source": [
    "# Read the data into a dataframe\n",
    "\n",
    "location_data = pd.read_csv(\"locations.csv\")"
   ]
  },
  {
   "cell_type": "markdown",
   "metadata": {},
   "source": [
    "With the data in a dataframe, it can be processed in any way required, and then sent straight to the database using the `.to_sql()` method.\n",
    "\n",
    "The `.to_sql()` method takes a table name, and a connection object, and then adds all the rows of the dataframe into the database. In our case, we need to add two more arguments:\n",
    "\n",
    "- `index=False` to stop the numeric index in the dataframe being passed in, because the `id` column in the `location` table handles the primary key for us\n",
    "- `if_exists=\"append\"` so that the rows are added onto the table, rather than overwriting it"
   ]
  },
  {
   "cell_type": "code",
   "execution_count": 20,
   "metadata": {},
   "outputs": [],
   "source": [
    "# Open a connection (that will close itself later)\n",
    "\n",
    "with engine.connect() as conn:\n",
    "    \n",
    "    # Add the data to the the dataframe\n",
    "    \n",
    "    location_data.to_sql(\"location\", conn, index=False, if_exists=\"append\")"
   ]
  },
  {
   "cell_type": "markdown",
   "metadata": {},
   "source": [
    "## Reading data\n",
    "\n",
    "Now that the tables have been created & filled, we can start reading data from the database. This has many familiar parts to methods previously used: we still need to open a connection and pass in some SQL, but now we get information coming back down the connection as well.\n",
    "\n",
    "The response to a query is a `sqlalchemy` `ResultProxy`; in order to get information out of it, we need to call the `.fetchall()` method; this produces a `list` of `tuples`, one for each returned row."
   ]
  },
  {
   "cell_type": "code",
   "execution_count": 21,
   "metadata": {},
   "outputs": [],
   "source": [
    "# Open a connection\n",
    "\n",
    "with engine.connect() as conn:\n",
    "    \n",
    "    # Run the query\n",
    "    \n",
    "    results = conn.execute(\"SELECT * FROM weapon;\")\n",
    "    \n",
    "    # Extract the results from the results object\n",
    "    \n",
    "    results = results.fetchall()"
   ]
  },
  {
   "cell_type": "code",
   "execution_count": 22,
   "metadata": {},
   "outputs": [
    {
     "name": "stdout",
     "output_type": "stream",
     "text": [
      "[(1, 'Candlestick'), (2, 'Dagger'), (3, 'Lead Pipe'), (4, 'Revolver'), (5, 'Rope'), (6, 'Wrench')]\n"
     ]
    }
   ],
   "source": [
    "# Display the results\n",
    "\n",
    "print(results)"
   ]
  },
  {
   "cell_type": "markdown",
   "metadata": {},
   "source": [
    "### Reading data with Pandas\n",
    "\n",
    "You don't have to read data in this format; you can also save time by reading data directly into `Pandas` using the `.read_sql()` method. As always, this requires a connection object."
   ]
  },
  {
   "cell_type": "code",
   "execution_count": 23,
   "metadata": {},
   "outputs": [],
   "source": [
    "# Craft the query - this one gets the suspects in alphabetical order\n",
    "\n",
    "query = \"\"\"\n",
    "    SELECT *\n",
    "    FROM suspect\n",
    "    ORDER BY name ASC;\n",
    "\"\"\""
   ]
  },
  {
   "cell_type": "code",
   "execution_count": 24,
   "metadata": {},
   "outputs": [],
   "source": [
    "# Open the connection using \"with\"\n",
    "\n",
    "with engine.connect() as conn:\n",
    "    suspects = pd.read_sql(query, conn, index_col=\"id\")"
   ]
  },
  {
   "cell_type": "markdown",
   "metadata": {},
   "source": [
    "Specifying `index_col` allows us to use the primary key of the table as our row index."
   ]
  },
  {
   "cell_type": "code",
   "execution_count": 25,
   "metadata": {},
   "outputs": [
    {
     "data": {
      "text/html": [
       "<div>\n",
       "<style scoped>\n",
       "    .dataframe tbody tr th:only-of-type {\n",
       "        vertical-align: middle;\n",
       "    }\n",
       "\n",
       "    .dataframe tbody tr th {\n",
       "        vertical-align: top;\n",
       "    }\n",
       "\n",
       "    .dataframe thead th {\n",
       "        text-align: right;\n",
       "    }\n",
       "</style>\n",
       "<table border=\"1\" class=\"dataframe\">\n",
       "  <thead>\n",
       "    <tr style=\"text-align: right;\">\n",
       "      <th></th>\n",
       "      <th>honorific</th>\n",
       "      <th>name</th>\n",
       "    </tr>\n",
       "    <tr>\n",
       "      <th>id</th>\n",
       "      <th></th>\n",
       "      <th></th>\n",
       "    </tr>\n",
       "  </thead>\n",
       "  <tbody>\n",
       "    <tr>\n",
       "      <th>1</th>\n",
       "      <td>Dr.</td>\n",
       "      <td>Black</td>\n",
       "    </tr>\n",
       "    <tr>\n",
       "      <th>8</th>\n",
       "      <td>Dr.</td>\n",
       "      <td>Black</td>\n",
       "    </tr>\n",
       "    <tr>\n",
       "      <th>5</th>\n",
       "      <td>Reverend</td>\n",
       "      <td>Green</td>\n",
       "    </tr>\n",
       "    <tr>\n",
       "      <th>3</th>\n",
       "      <td>Colonel</td>\n",
       "      <td>Mustard</td>\n",
       "    </tr>\n",
       "    <tr>\n",
       "      <th>7</th>\n",
       "      <td>Professor</td>\n",
       "      <td>Plum</td>\n",
       "    </tr>\n",
       "    <tr>\n",
       "      <th>2</th>\n",
       "      <td>Miss</td>\n",
       "      <td>Scarlett</td>\n",
       "    </tr>\n",
       "    <tr>\n",
       "      <th>4</th>\n",
       "      <td>Mrs.</td>\n",
       "      <td>White</td>\n",
       "    </tr>\n",
       "    <tr>\n",
       "      <th>6</th>\n",
       "      <td>Mrs</td>\n",
       "      <td>peacock</td>\n",
       "    </tr>\n",
       "  </tbody>\n",
       "</table>\n",
       "</div>"
      ],
      "text/plain": [
       "    honorific      name\n",
       "id                     \n",
       "1         Dr.     Black\n",
       "8         Dr.     Black\n",
       "5    Reverend     Green\n",
       "3     Colonel   Mustard\n",
       "7   Professor      Plum\n",
       "2        Miss  Scarlett\n",
       "4        Mrs.     White\n",
       "6         Mrs   peacock"
      ]
     },
     "execution_count": 25,
     "metadata": {},
     "output_type": "execute_result"
    }
   ],
   "source": [
    "# Display the dataframe\n",
    "\n",
    "suspects.head(9)"
   ]
  },
  {
   "cell_type": "markdown",
   "metadata": {},
   "source": [
    "## Deleting data\n",
    "\n",
    "We've made a terrible mistake: there are two Dr. Blacks in the database. Given the active murder investigation, having a [Doppelganger](https://en.wikipedia.org/wiki/Doppelg%C3%A4nger) of the murder victim wandering around causes unnecessary complications.\n",
    "\n",
    "Luckily, deleting our duplicate doctor is no more difficult than inserting him was. Let's remove the one with the higher `id`."
   ]
  },
  {
   "cell_type": "code",
   "execution_count": 26,
   "metadata": {},
   "outputs": [],
   "source": [
    "# Craft the statement\n",
    "\n",
    "statement = \"\"\"\n",
    "    DELETE FROM suspect\n",
    "    WHERE id = 8\n",
    "    AND honorific = 'Dr.';\n",
    "\"\"\""
   ]
  },
  {
   "cell_type": "code",
   "execution_count": 27,
   "metadata": {},
   "outputs": [],
   "source": [
    "# Run the query\n",
    "\n",
    "with engine.connect() as conn:\n",
    "    conn.execute(statement)"
   ]
  },
  {
   "cell_type": "markdown",
   "metadata": {},
   "source": [
    "## Updating data\n",
    "\n",
    "We've made a second, though less problematic, mistake: Mrs. Peacock's name lacks the required capital letter.\n",
    "\n",
    "Updating is just as easy as deleting."
   ]
  },
  {
   "cell_type": "code",
   "execution_count": 28,
   "metadata": {},
   "outputs": [],
   "source": [
    "# Craft the statement\n",
    "\n",
    "statement = \"\"\"\n",
    "    UPDATE suspect\n",
    "    SET name = 'Peacock'\n",
    "    WHERE name = 'peacock';\n",
    "\"\"\""
   ]
  },
  {
   "cell_type": "code",
   "execution_count": 29,
   "metadata": {},
   "outputs": [],
   "source": [
    "# Run the query\n",
    "\n",
    "with engine.connect() as conn:\n",
    "    conn.execute(statement)"
   ]
  },
  {
   "cell_type": "markdown",
   "metadata": {},
   "source": [
    "## Reviewing the database\n",
    "\n",
    "Our database should now be complete, correct, and populated. It's a good idea to just look at all the data, getting a good understanding of the current situation before working with it further.\n",
    "\n",
    "The next cell combines several concepts that we've covered so far in order to print out each row of the table in a neat, human readable way."
   ]
  },
  {
   "cell_type": "code",
   "execution_count": 30,
   "metadata": {},
   "outputs": [
    {
     "name": "stdout",
     "output_type": "stream",
     "text": [
      "----------\n",
      "Location\n",
      "----------\n",
      "1: Kitchen\n",
      "2: Ballroom\n",
      "3: Conservatory\n",
      "4: Dining Room\n",
      "5: Cellar\n",
      "6: Billiard Room\n",
      "7: Library\n",
      "8: Lounge\n",
      "9: Hall\n",
      "10: Study\n",
      "----------\n",
      "Weapon\n",
      "----------\n",
      "1: Candlestick\n",
      "2: Dagger\n",
      "3: Lead Pipe\n",
      "4: Revolver\n",
      "5: Rope\n",
      "6: Wrench\n",
      "----------\n",
      "Suspect\n",
      "----------\n",
      "1: Black\n",
      "2: Scarlett\n",
      "3: Mustard\n",
      "4: White\n",
      "5: Green\n",
      "6: Peacock\n",
      "7: Plum\n"
     ]
    }
   ],
   "source": [
    "# Open the connection using \"with\"\n",
    "\n",
    "with engine.connect() as conn:\n",
    "    \n",
    "    # Loop through the tables with data in them\n",
    "    \n",
    "    for table in [\"location\", \"weapon\", \"suspect\"]:\n",
    "        \n",
    "        # Select id and name from each table\n",
    "        \n",
    "        results = conn.execute(f\"SELECT id, name FROM {table};\").fetchall()\n",
    "        \n",
    "        # Format the titles to stand out\n",
    "        \n",
    "        print(\"-\" * 10)\n",
    "        print(f\"{table.title()}\")\n",
    "        print(\"-\" * 10)\n",
    "        \n",
    "        # For each row (in each table)\n",
    "        \n",
    "        for row in results:\n",
    "            \n",
    "            # Print the id and name, separated by a colon\n",
    "            \n",
    "            print(\": \".join([str(val) for val in row]))"
   ]
  },
  {
   "cell_type": "markdown",
   "metadata": {},
   "source": [
    "## Investigating the murder\n",
    "\n",
    "With a working database, we can (finally) begin solving the mystery: who killed Mr. Black? The very stones of Tudor Close cry out for justice.\n",
    "\n",
    "As Sherlock Holmes famously said, \"Once you eliminate the impossible, whatever remains, no matter how improbable, must be the truth.\" He didn't say anything about SQL, but that is an understandable oversight, given when SQL was invented, and when his author died.\n",
    "\n",
    "The next step in our investigation, having created the database, is to identify all the possible options. We can then start eliminating them one by one, leaving us with what must be - however improbable - the identity of the killer.\n",
    "\n",
    "### Generating possibilities\n",
    "\n",
    "We can add a row to the `accusation` table for each possible combination of suspect, location, and weapon. That's a lot of possibilities, and it would be tedious to do this by hand. However, we know that there are only a certain number of possible `id` values for the three things we care about; we can use Python to create a list of all possible combinations of those three possibilities.\n",
    "\n",
    "This would be fiddly and annoying to code ourselves, but luckily there is a useful function in the `itertools` library that will do the awkward work for us, so that we can focus on serving Lady Justice."
   ]
  },
  {
   "cell_type": "code",
   "execution_count": 31,
   "metadata": {},
   "outputs": [
    {
     "data": {
      "text/plain": [
       "[(1, 1, 1),\n",
       " (1, 1, 2),\n",
       " (1, 1, 3),\n",
       " (1, 1, 4),\n",
       " (1, 1, 5),\n",
       " (1, 1, 6),\n",
       " (1, 2, 1),\n",
       " (1, 2, 2),\n",
       " (1, 2, 3),\n",
       " (1, 2, 4)]"
      ]
     },
     "execution_count": 31,
     "metadata": {},
     "output_type": "execute_result"
    }
   ],
   "source": [
    "# Create a list of all possible combinations\n",
    "\n",
    "combinations = list(product([x for x in range(1,8)], # 7 possible suspect ids\n",
    "                            [x for x in range(1, 11)],  # 10 possible locations  \n",
    "                            [x for x in range(1, 7)]))  # 6 possible weapons\n",
    "\n",
    "# View the first few combinations\n",
    "\n",
    "combinations[:10]"
   ]
  },
  {
   "cell_type": "markdown",
   "metadata": {},
   "source": [
    "Each `tuple` of numbers is  three ids - one for suspect, one for location, and one for weapon. This is exactly what is expected by the `accusation` table.\n",
    "\n",
    "The next step is to add each of the possible combinations as a row in the `accusation` table. As we do not know which accusation is currently correct, we will refrain from marking any accusation as `True` or `False` (or, to be more precise, 1 or 0) at present.\n",
    "\n",
    "The code to do this is very similar to the code we used to import the `weapon` data."
   ]
  },
  {
   "cell_type": "code",
   "execution_count": 32,
   "metadata": {},
   "outputs": [
    {
     "name": "stdout",
     "output_type": "stream",
     "text": [
      "\n",
      "INSERT INTO accusation\n",
      "(suspect_id, location_id, weapon_id)\n",
      "VALUES    \n",
      "(1, 1, 1),\n",
      "(1, 1, 2),\n",
      "(1, 1, 3),\n",
      "(1, 1, 4),\n"
     ]
    }
   ],
   "source": [
    "# Craft the statement\n",
    "\n",
    "statement = \"\"\"\n",
    "INSERT INTO accusation\n",
    "(suspect_id, location_id, weapon_id)\n",
    "VALUES    \n",
    "\"\"\"\n",
    "\n",
    "# Loop through the combinations\n",
    "\n",
    "for combination in combinations:\n",
    "\n",
    "    # Add each possible guess to the statement\n",
    "    \n",
    "    statement = statement + f\"({combination[0]}, {combination[1]}, {combination[2]}),\\n\"\n",
    "    \n",
    "# Remove the final character from the statement (trailing comma) and replace it with a semicolon\n",
    "\n",
    "statement = statement[:-2] + \";\"\n",
    "\n",
    "# Display the first part of the statement (it's very long)\n",
    "\n",
    "print(statement[:115])"
   ]
  },
  {
   "cell_type": "code",
   "execution_count": 33,
   "metadata": {},
   "outputs": [],
   "source": [
    "# Run the statement\n",
    "\n",
    "with engine.connect() as conn:\n",
    "    conn.execute(statement)"
   ]
  },
  {
   "cell_type": "markdown",
   "metadata": {},
   "source": [
    "### Viewing possibilities\n",
    "\n",
    "Once we have added the data to the database, we can view the various possibilities. Remember that the `accusation` table only stores the `id`s for the different parts of the accusation. We'll need to `JOIN` data together from different tables to get a human-readable list of possibilities.\n",
    "\n",
    "Let's start by focusing on just one potential suspect: Miss Scarlett."
   ]
  },
  {
   "cell_type": "code",
   "execution_count": 34,
   "metadata": {},
   "outputs": [],
   "source": [
    "# Craft the query\n",
    "\n",
    "query = \"\"\"\n",
    "    SELECT S.name AS suspect, L.name AS location, W.name AS weapon\n",
    "    FROM accusation AS A\n",
    "    LEFT JOIN suspect AS S\n",
    "    ON (A.suspect_id = S.id)\n",
    "    LEFT JOIN location AS L\n",
    "    ON (A.location_id = L.id)\n",
    "    LEFT JOIN weapon AS W\n",
    "    ON (A.weapon_id = W.id)\n",
    "    WHERE S.name = 'Scarlett';\n",
    "\"\"\""
   ]
  },
  {
   "cell_type": "code",
   "execution_count": 35,
   "metadata": {},
   "outputs": [],
   "source": [
    "# Run the query\n",
    "\n",
    "with engine.connect() as conn:\n",
    "    scarlett_accusations = pd.read_sql(query, conn)"
   ]
  },
  {
   "cell_type": "code",
   "execution_count": 36,
   "metadata": {},
   "outputs": [
    {
     "data": {
      "text/html": [
       "<div>\n",
       "<style scoped>\n",
       "    .dataframe tbody tr th:only-of-type {\n",
       "        vertical-align: middle;\n",
       "    }\n",
       "\n",
       "    .dataframe tbody tr th {\n",
       "        vertical-align: top;\n",
       "    }\n",
       "\n",
       "    .dataframe thead th {\n",
       "        text-align: right;\n",
       "    }\n",
       "</style>\n",
       "<table border=\"1\" class=\"dataframe\">\n",
       "  <thead>\n",
       "    <tr style=\"text-align: right;\">\n",
       "      <th></th>\n",
       "      <th>suspect</th>\n",
       "      <th>location</th>\n",
       "      <th>weapon</th>\n",
       "    </tr>\n",
       "  </thead>\n",
       "  <tbody>\n",
       "    <tr>\n",
       "      <th>10</th>\n",
       "      <td>Scarlett</td>\n",
       "      <td>Ballroom</td>\n",
       "      <td>Rope</td>\n",
       "    </tr>\n",
       "    <tr>\n",
       "      <th>54</th>\n",
       "      <td>Scarlett</td>\n",
       "      <td>Study</td>\n",
       "      <td>Candlestick</td>\n",
       "    </tr>\n",
       "    <tr>\n",
       "      <th>31</th>\n",
       "      <td>Scarlett</td>\n",
       "      <td>Billiard Room</td>\n",
       "      <td>Dagger</td>\n",
       "    </tr>\n",
       "    <tr>\n",
       "      <th>16</th>\n",
       "      <td>Scarlett</td>\n",
       "      <td>Conservatory</td>\n",
       "      <td>Rope</td>\n",
       "    </tr>\n",
       "    <tr>\n",
       "      <th>40</th>\n",
       "      <td>Scarlett</td>\n",
       "      <td>Library</td>\n",
       "      <td>Rope</td>\n",
       "    </tr>\n",
       "  </tbody>\n",
       "</table>\n",
       "</div>"
      ],
      "text/plain": [
       "     suspect       location       weapon\n",
       "10  Scarlett       Ballroom         Rope\n",
       "54  Scarlett          Study  Candlestick\n",
       "31  Scarlett  Billiard Room       Dagger\n",
       "16  Scarlett   Conservatory         Rope\n",
       "40  Scarlett        Library         Rope"
      ]
     },
     "execution_count": 36,
     "metadata": {},
     "output_type": "execute_result"
    }
   ],
   "source": [
    "# View a sample of accusations\n",
    "\n",
    "scarlett_accusations.sample(5)"
   ]
  },
  {
   "cell_type": "markdown",
   "metadata": {},
   "source": [
    "## Eliminating possibilities\n",
    "\n",
    "Now that we have all of the possible accusations, we can start eliminating ones we know aren't true. Based on the original rules of Cluedo, we know the murder didn't take place in the cellar (`id` of 5), for example, and we know that (for it to be a murder) Dr. Black (`id` of 1) cannot be responsible.\n",
    "\n",
    "We can mark all accusations involving one of the two above details as `False`, and remove them from the investigation."
   ]
  },
  {
   "cell_type": "code",
   "execution_count": 37,
   "metadata": {},
   "outputs": [],
   "source": [
    "# Craft the statement\n",
    "\n",
    "statement = \"\"\"\n",
    "    UPDATE accusation\n",
    "    SET true = 0\n",
    "    WHERE location_id = 5\n",
    "    OR suspect_id = 1;\n",
    "\"\"\""
   ]
  },
  {
   "cell_type": "code",
   "execution_count": 38,
   "metadata": {},
   "outputs": [],
   "source": [
    "# Run the statement\n",
    "\n",
    "with engine.connect() as conn:\n",
    "    conn.execute(statement)"
   ]
  },
  {
   "cell_type": "markdown",
   "metadata": {},
   "source": [
    "## Check remaining possibilities\n",
    "\n",
    "We can write another query to count the number of accusations that aren't currently `False` (shown in the database by a `0`; if we're lucky, that number will be 1."
   ]
  },
  {
   "cell_type": "code",
   "execution_count": 39,
   "metadata": {},
   "outputs": [
    {
     "name": "stdout",
     "output_type": "stream",
     "text": [
      "324\n"
     ]
    }
   ],
   "source": [
    "# Run the statement\n",
    "\n",
    "with engine.connect() as conn:\n",
    "    results = conn.execute(\"SELECT COUNT(*) FROM accusation WHERE true IS NOT 0\").fetchall()\n",
    "    print(results[0][0])"
   ]
  },
  {
   "cell_type": "markdown",
   "metadata": {},
   "source": [
    "## Eliminating more possibilities\n",
    "\n",
    "Unfortunately, that's still loads of possibilities. We're going to have to keep searching to find the murderer.\n",
    "\n",
    "Luckily, we have some additional clues:\n",
    "\n",
    "- The murder took place in a room with a one-word name\n",
    "- The murder weapon's name is at least 6 letters long\n",
    "- The murderer's name is shorter than the murder weapon's\n",
    "- The weapon name does not start with the same letter as the location's\n",
    "- The murder weapon's name ends with the same letter as the murder location's name starts.\n",
    "- The length of the murderer's name, added to the murder location's name, is less than or equal to the murder weapon's name\n",
    "\n",
    "Use these clues to cross off possibilities, marking accusations as `False` if they don't match the facts. You'll need to write and run SQL statements on the database, and will probably need to use the `LENGTH`, `LOWER`, and `SUBSTR` functions in SQLite.\n",
    "\n",
    "You could, of course, work this all out without SQL, but where would be the fun in that?"
   ]
  },
  {
   "cell_type": "code",
   "execution_count": null,
   "metadata": {},
   "outputs": [],
   "source": []
  },
  {
   "cell_type": "markdown",
   "metadata": {},
   "source": [
    "Once you've eliminated the impossible, marking each inaccurate accusation with a `0` in the `true` column, then you should be able to use the cell below to reveal the real murderer."
   ]
  },
  {
   "cell_type": "code",
   "execution_count": 45,
   "metadata": {},
   "outputs": [
    {
     "name": "stdout",
     "output_type": "stream",
     "text": [
      "210 possibilities still under investigation.\n"
     ]
    }
   ],
   "source": [
    "statement = \"\"\"\n",
    "      SELECT A.id, S.honorific, S.name, L.name, W.name\n",
    "\n",
    "      FROM accusation AS A\n",
    "      LEFT JOIN suspect AS S\n",
    "      ON (A.suspect_id = S.id)\n",
    "      LEFT JOIN weapon AS W\n",
    "      ON (A.weapon_id = W.id)\n",
    "      LEFT JOIN location AS L\n",
    "      ON (A.location_id = L.id)\n",
    "\n",
    "      WHERE true IS NOT 0\n",
    "\"\"\"\n",
    "\n",
    "with engine.connect() as conn:\n",
    "    \n",
    "    results = conn.execute(statement).fetchall()\n",
    "    \n",
    "    if len(results) == 1:\n",
    "        print(f\"I accuse {results[0][1]} {results[0][2]}, in the {results[0][3]}, with the {results[0][4]}.\")\n",
    "    else:\n",
    "        print(f\"{len(results)} possibilities still under investigation.\")"
   ]
  },
  {
   "cell_type": "markdown",
   "metadata": {},
   "source": [
    "<details>\n",
    "    <summary>\n",
    "        Reveal the culprit!\n",
    "    </summary>\n",
    "    I accuse Professor Plum, in the Kitchen, with the Candlestick.\n",
    "</details"
   ]
  }
 ],
 "metadata": {
  "kernelspec": {
   "display_name": "Python 3",
   "language": "python",
   "name": "python3"
  },
  "language_info": {
   "codemirror_mode": {
    "name": "ipython",
    "version": 3
   },
   "file_extension": ".py",
   "mimetype": "text/x-python",
   "name": "python",
   "nbconvert_exporter": "python",
   "pygments_lexer": "ipython3",
   "version": "3.7.5"
  }
 },
 "nbformat": 4,
 "nbformat_minor": 2
}
